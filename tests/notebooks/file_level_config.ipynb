{
 "cells": [
  {
   "cell_type": "markdown",
   "id": "be9f2c4c",
   "metadata": {},
   "source": [
    "# Title\n",
    "\n",
    "name\n",
    ": definition"
   ]
  }
 ],
 "metadata": {
  "file_format": "mystnb",
  "kernelspec": {
   "display_name": "python3",
   "name": "python3"
  },
  "myst": {
   "enable_extensions": [
    "deflist"
   ]
  },
  "mystnb": {
   "execution_mode": "off"
  }
 },
 "nbformat": 4,
 "nbformat_minor": 5
}
